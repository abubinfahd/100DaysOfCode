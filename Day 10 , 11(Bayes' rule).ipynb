{
 "cells": [
  {
   "cell_type": "markdown",
   "id": "b7f9fed2",
   "metadata": {},
   "source": [
    "# Bayes' rule"
   ]
  },
  {
   "cell_type": "markdown",
   "id": "554e204f",
   "metadata": {},
   "source": [
    "Bayes' theorem, named after 18th-century British mathematician Thomas Bayes, is a mathematical formula for determining conditional probability. Conditional probability is the likelihood of an outcome occurring, based on a previous outcome occurring."
   ]
  },
  {
   "cell_type": "markdown",
   "id": "a9900c57",
   "metadata": {},
   "source": [
    "<img src=\"Bayes.png\" \n",
    "     width=\"500\"\n",
    "     align=\"left\"/>"
   ]
  },
  {
   "cell_type": "markdown",
   "id": "4cbad5ea",
   "metadata": {},
   "source": [
    "### Factories and parts\n",
    "A certain electronic part is manufactured by three different vendors named V1, V2, and V3.\n",
    "\n",
    "Half of the parts are produced by V1, 25% by V2, and the rest by V3. The probability of a part being damaged given that it was produced by V1 is 1%, while it's 2% for V2 and 3% for V3.\n",
    "\n",
    "If a part taken at random is damaged, answer the following questions."
   ]
  },
  {
   "cell_type": "code",
   "execution_count": 1,
   "id": "7df3b35c",
   "metadata": {},
   "outputs": [
    {
     "name": "stdout",
     "output_type": "stream",
     "text": [
      "0.2857142857142857\n"
     ]
    }
   ],
   "source": [
    "# What is the probability that the part was manufactured by V1?\n",
    "# Individual probabilities & conditional probabilities\n",
    "P_V1 = 0.5\n",
    "P_V2 = 0.25\n",
    "P_V3 = 0.25\n",
    "P_D_g_V1 = 0.01\n",
    "P_D_g_V2 = 0.02\n",
    "P_D_g_V3 = 0.03\n",
    "\n",
    "# Probability of Damaged\n",
    "P_Damaged = (P_V1 * P_D_g_V1) + (P_V2 * P_D_g_V2) + (P_V3 * P_D_g_V3)\n",
    "\n",
    "# Bayes' rule for P(V1|D)\n",
    "P_V1_g_D = (P_V1 * P_D_g_V1) / P_Damaged\n",
    "\n",
    "print(P_V1_g_D)"
   ]
  },
  {
   "cell_type": "code",
   "execution_count": 2,
   "id": "ff484581",
   "metadata": {},
   "outputs": [
    {
     "name": "stdout",
     "output_type": "stream",
     "text": [
      "0.2857142857142857\n"
     ]
    }
   ],
   "source": [
    "# What is the probability that it was manufactured by V2?\n",
    "# Individual probabilities & conditional probabilities\n",
    "P_V1 = 0.5\n",
    "P_V2 = 0.25\n",
    "P_V3 = 0.25\n",
    "P_D_g_V1 = 0.01\n",
    "P_D_g_V2 = 0.02\n",
    "P_D_g_V3 = 0.03\n",
    "\n",
    "# Probability of Damaged\n",
    "P_Damaged = (P_V1 * P_D_g_V1) + (P_V2 * P_D_g_V2) + (P_V3 * P_D_g_V3)\n",
    "\n",
    "# Bayes' rule for P(V2|D)\n",
    "P_V2_g_D = (P_V2 * P_D_g_V2) / P_Damaged\n",
    "\n",
    "print(P_V2_g_D)"
   ]
  },
  {
   "cell_type": "code",
   "execution_count": 3,
   "id": "c5519b13",
   "metadata": {},
   "outputs": [
    {
     "name": "stdout",
     "output_type": "stream",
     "text": [
      "0.4285714285714285\n"
     ]
    }
   ],
   "source": [
    "# What is the probability that the part was manufactured by V3?\n",
    "# Individual probabilities & conditional probabilities\n",
    "P_V1 = 0.5\n",
    "P_V2 = 0.25\n",
    "P_V3 = 0.25\n",
    "P_D_g_V1 = 0.01\n",
    "P_D_g_V2 = 0.02\n",
    "P_D_g_V3 = 0.03\n",
    "\n",
    "# Probability of Damaged\n",
    "P_Damaged = (P_V1 * P_D_g_V1) + (P_V2 * P_D_g_V2) + (P_V3 * P_D_g_V3)\n",
    "\n",
    "# Bayes' rule for P(V3|D)\n",
    "P_V3_g_D = (P_V3 * P_D_g_V3) / P_Damaged\n",
    "\n",
    "print(P_V3_g_D)"
   ]
  },
  {
   "cell_type": "markdown",
   "id": "5828f021",
   "metadata": {},
   "source": [
    "### Swine flu blood test\n",
    "You go to the doctor about a strong headache. The doctor randomly selects you for a blood test for swine flu, which is suspected to affect 1 in 9,000 people in your city. The accuracy of the test is 99%, meaning that the probability of a false positive is 1%. The probability of a false negative is zero.\n",
    "\n",
    "Given that you test positive, answer the following questions."
   ]
  },
  {
   "cell_type": "code",
   "execution_count": 4,
   "id": "1b23e5b9",
   "metadata": {},
   "outputs": [
    {
     "name": "stdout",
     "output_type": "stream",
     "text": [
      "0.010990218705352238\n"
     ]
    }
   ],
   "source": [
    "# What is the probability that you have swine flu given that your test outcome is positive?\n",
    "# Probability of having Swine_flu\n",
    "P_Swine_flu = 1./9000\n",
    "# Probability of not having Swine_flu\n",
    "P_no_Swine_flu = 1 - P_Swine_flu\n",
    "# Probability of being positive given that you have Swine_flu\n",
    "P_Positive_g_Swine_flu = 1\n",
    "# Probability of being positive given that you do not have Swine_flu\n",
    "P_Positive_g_no_Swine_flu = 0.01\n",
    "\n",
    "# Probability of Positive\n",
    "P_Positive = (P_Swine_flu * P_Positive_g_Swine_flu) + (P_no_Swine_flu * P_Positive_g_no_Swine_flu)\n",
    "\n",
    "# Bayes' rule for P(Swine_flu|Positive)\n",
    "P_Swine_flu_g_Positive = (P_Swine_flu * P_Positive_g_Swine_flu) / P_Positive\n",
    "\n",
    "print(P_Swine_flu_g_Positive)"
   ]
  },
  {
   "cell_type": "code",
   "execution_count": 5,
   "id": "f0d90fc5",
   "metadata": {},
   "outputs": [
    {
     "name": "stdout",
     "output_type": "stream",
     "text": [
      "0.22271714922048996\n"
     ]
    }
   ],
   "source": [
    "# You went to Miami and 1 in 350 people came back with swine flu. Calculate the new probability that you'll test positive.\n",
    "# Individual probabilities & conditional probabilities\n",
    "P_Swine_flu = 1./350\n",
    "P_no_Swine_flu = 1 - P_Swine_flu\n",
    "P_Positive_g_Swine_flu = 1\n",
    "P_Positive_g_no_Swine_flu = 0.01\n",
    "\n",
    "# Probability of Positive\n",
    "P_Positive = (P_Swine_flu * P_Positive_g_Swine_flu) + (P_no_Swine_flu * P_Positive_g_no_Swine_flu)\n",
    "\n",
    "# Bayes' rule for P(Swine_flu|Positive)\n",
    "P_Swine_flu_g_Positive = (P_Swine_flu * P_Positive_g_Swine_flu) / P_Positive\n",
    "\n",
    "print(P_Swine_flu_g_Positive)\n"
   ]
  },
  {
   "cell_type": "code",
   "execution_count": 6,
   "id": "48ea2a8d",
   "metadata": {},
   "outputs": [
    {
     "name": "stdout",
     "output_type": "stream",
     "text": [
      "0.12531328320802004\n"
     ]
    }
   ],
   "source": [
    "# If the probability of a false positive is 2%, what is the new probability that you have swine flu after your vacation?\n",
    "# Individual probabilities & conditional probabilities\n",
    "P_Swine_flu = 1./350\n",
    "P_no_Swine_flu = 1 - P_Swine_flu\n",
    "P_Positive_g_Swine_flu = 1\n",
    "P_Positive_g_no_Swine_flu = 0.02\n",
    "\n",
    "# Probability of Positive\n",
    "P_Positive = P_Swine_flu * P_Positive_g_Swine_flu + P_no_Swine_flu * P_Positive_g_no_Swine_flu\n",
    "\n",
    "# Bayes' rule for P(Swine_flu|Positive)\n",
    "P_Swine_flu_g_Positive = (P_Swine_flu * P_Positive_g_Swine_flu) / P_Positive\n",
    "\n",
    "print(P_Swine_flu_g_Positive)"
   ]
  },
  {
   "cell_type": "code",
   "execution_count": null,
   "id": "da6423d4",
   "metadata": {},
   "outputs": [],
   "source": []
  }
 ],
 "metadata": {
  "kernelspec": {
   "display_name": "Python 3 (ipykernel)",
   "language": "python",
   "name": "python3"
  },
  "language_info": {
   "codemirror_mode": {
    "name": "ipython",
    "version": 3
   },
   "file_extension": ".py",
   "mimetype": "text/x-python",
   "name": "python",
   "nbconvert_exporter": "python",
   "pygments_lexer": "ipython3",
   "version": "3.9.7"
  }
 },
 "nbformat": 4,
 "nbformat_minor": 5
}
